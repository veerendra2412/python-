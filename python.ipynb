{
 "cells": [
  {
   "cell_type": "markdown",
   "id": "ba78b3a5",
   "metadata": {},
   "source": [
    "###### print the square root of the number"
   ]
  },
  {
   "cell_type": "code",
   "execution_count": 43,
   "id": "f839689b",
   "metadata": {},
   "outputs": [
    {
     "name": "stdout",
     "output_type": "stream",
     "text": [
      "enter a number here: 4\n",
      "the square root of the number is 2.0\n"
     ]
    }
   ],
   "source": [
    "num=int(input('enter a number here: '))\n",
    "sq_r=num**1/2\n",
    "print('the square root of the number is',sq_r)"
   ]
  },
  {
   "cell_type": "markdown",
   "id": "c01ab08d",
   "metadata": {},
   "source": [
    "###### swapping the two variables"
   ]
  },
  {
   "cell_type": "code",
   "execution_count": 12,
   "id": "3083b748",
   "metadata": {},
   "outputs": [
    {
     "name": "stdout",
     "output_type": "stream",
     "text": [
      "the value of the mod is 25\n",
      "34\n",
      "25\n"
     ]
    }
   ],
   "source": [
    "x=25\n",
    "y=34\n",
    "\n",
    "mod=x\n",
    "print('the value of the mod is',mod)\n",
    "\n",
    "x=y\n",
    "print(x)\n",
    "\n",
    "y=mod\n",
    "print(y)\n"
   ]
  },
  {
   "cell_type": "markdown",
   "id": "d5ccf24f",
   "metadata": {},
   "source": [
    "###### finding the number is positive or negative or zero"
   ]
  },
  {
   "cell_type": "code",
   "execution_count": 18,
   "id": "9cb05100",
   "metadata": {},
   "outputs": [
    {
     "name": "stdout",
     "output_type": "stream",
     "text": [
      "enter the number here-89\n",
      "the number is negative\n"
     ]
    }
   ],
   "source": [
    "num=int(input('enter the number here'))\n",
    "\n",
    "if num>0:\n",
    "    print('the number is positive')\n",
    "elif num == 0:\n",
    "    print('the number is zero')\n",
    "else: \n",
    "    print('the number is negative')"
   ]
  },
  {
   "cell_type": "markdown",
   "id": "040b2b22",
   "metadata": {},
   "source": [
    "###### duplicates"
   ]
  },
  {
   "cell_type": "code",
   "execution_count": 7,
   "id": "2dc8391a",
   "metadata": {},
   "outputs": [
    {
     "name": "stdout",
     "output_type": "stream",
     "text": [
      "{2, 3, 4, 5, 6}\n"
     ]
    }
   ],
   "source": [
    "a1=[2,3,3,4,5,6,2,5]\n",
    "a2=set()\n",
    "a3=set()\n",
    "\n",
    "for i in a1:\n",
    "    if i in a2:\n",
    "         a3.add(i)\n",
    "    else:\n",
    "         a2.add(i)\n",
    "print(a2)"
   ]
  },
  {
   "cell_type": "markdown",
   "id": "15b8d66d",
   "metadata": {},
   "source": [
    "###### printing multiple numbers"
   ]
  },
  {
   "cell_type": "code",
   "execution_count": 25,
   "id": "f66be863",
   "metadata": {},
   "outputs": [
    {
     "name": "stdout",
     "output_type": "stream",
     "text": [
      "50\n",
      "2\n",
      "50\n"
     ]
    }
   ],
   "source": [
    "x=50\n",
    "def func(x):\n",
    "    print(x)\n",
    "    x=2\n",
    "    print(x)\n",
    "func(x)\n",
    "print(x)"
   ]
  },
  {
   "cell_type": "markdown",
   "id": "0202e7aa",
   "metadata": {},
   "source": [
    "###### indexing the number"
   ]
  },
  {
   "cell_type": "code",
   "execution_count": 26,
   "id": "6eb3d0a0",
   "metadata": {},
   "outputs": [
    {
     "name": "stdout",
     "output_type": "stream",
     "text": [
      "(2, 3)\n"
     ]
    }
   ],
   "source": [
    "a=(1,2,3,4)\n",
    "print(a[1:-1])"
   ]
  },
  {
   "cell_type": "markdown",
   "id": "bbeeccac",
   "metadata": {},
   "source": [
    "###### finding the number is even or odd"
   ]
  },
  {
   "cell_type": "code",
   "execution_count": 34,
   "id": "7d0647c9",
   "metadata": {},
   "outputs": [
    {
     "name": "stdout",
     "output_type": "stream",
     "text": [
      "write the number here8\n",
      "the number is even\n"
     ]
    }
   ],
   "source": [
    "num=int(input('write the number here' ))\n",
    "\n",
    "if num % 2 == 0:\n",
    "    print('the number is even')\n",
    "else:\n",
    "    print('the number is odd')"
   ]
  },
  {
   "cell_type": "markdown",
   "id": "4e456f48",
   "metadata": {},
   "source": [
    "###### cheking the number is prime or not"
   ]
  },
  {
   "cell_type": "code",
   "execution_count": 40,
   "id": "002cd32b",
   "metadata": {},
   "outputs": [
    {
     "name": "stdout",
     "output_type": "stream",
     "text": [
      "the number is 4\n",
      "is not prime\n"
     ]
    }
   ],
   "source": [
    "#the number which divides by itself\n",
    "num=int(input('the number is '))\n",
    "\n",
    "for i in range (2,num):\n",
    "        if  num % i == 0:\n",
    "            print('is not prime')\n",
    "            break\n",
    "else:\n",
    "    print('it is prime')"
   ]
  },
  {
   "cell_type": "markdown",
   "id": "cb92777d",
   "metadata": {},
   "source": [
    "###### factorial of a number"
   ]
  },
  {
   "cell_type": "code",
   "execution_count": 42,
   "id": "b1b1b09a",
   "metadata": {
    "scrolled": true
   },
   "outputs": [
    {
     "name": "stdout",
     "output_type": "stream",
     "text": [
      "enter a number here:-1\n",
      "factorial of zero doesnt exist\n"
     ]
    }
   ],
   "source": [
    "num=int(input('enter a number here:'))\n",
    "\n",
    "fact=1\n",
    "\n",
    "if num<0:\n",
    "    print('factorial of zero doesnt exist')\n",
    "if num == 0:\n",
    "    print('factorial of 0 is',1)\n",
    "if num>0:\n",
    "    for i in range(1,num+1):\n",
    "        fact=fact * 1\n",
    "    print('the factorial of number is')"
   ]
  },
  {
   "cell_type": "markdown",
   "id": "93a69ca3",
   "metadata": {},
   "source": [
    "###### slicing the reverse elements"
   ]
  },
  {
   "cell_type": "code",
   "execution_count": 1,
   "id": "9ebd84b1",
   "metadata": {},
   "outputs": [
    {
     "name": "stdout",
     "output_type": "stream",
     "text": [
      "[5, 4, 3, 2, 1]\n"
     ]
    }
   ],
   "source": [
    "lst = [1, 2, 3, 4, 5]\n",
    "\n",
    "\n",
    "reversed_lst = lst[::-1]\n",
    "print(reversed_lst)"
   ]
  },
  {
   "cell_type": "code",
   "execution_count": null,
   "id": "ddbf9fee",
   "metadata": {},
   "outputs": [],
   "source": [
    " "
   ]
  }
 ],
 "metadata": {
  "kernelspec": {
   "display_name": "Python 3 (ipykernel)",
   "language": "python",
   "name": "python3"
  },
  "language_info": {
   "codemirror_mode": {
    "name": "ipython",
    "version": 3
   },
   "file_extension": ".py",
   "mimetype": "text/x-python",
   "name": "python",
   "nbconvert_exporter": "python",
   "pygments_lexer": "ipython3",
   "version": "3.11.5"
  }
 },
 "nbformat": 4,
 "nbformat_minor": 5
}
